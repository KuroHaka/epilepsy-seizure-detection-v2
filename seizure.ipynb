{
  "cells": [
    {
      "cell_type": "code",
      "execution_count": 39,
      "metadata": {
        "id": "N8o9jwUOoaEY"
      },
      "outputs": [],
      "source": [
        "import mne\n",
        "import matplotlib\n",
        "import pathlib\n",
        "import numpy as np\n",
        "import pandas as pd\n",
        "from sklearn import preprocessing\n",
        "import seaborn\n",
        "import matplotlib.pyplot as plt\n",
        "import scipy\n",
        "from scipy.fft import rfft, rfftfreq\n",
        "from IPython.display import clear_output\n",
        "import random\n",
        "import pickle\n",
        "import csv"
      ]
    },
    {
      "cell_type": "code",
      "execution_count": 2,
      "metadata": {
        "id": "_slsCxrGjnc5"
      },
      "outputs": [],
      "source": [
        "def random_sample(arr: np.array, size: int) -> np.array:\n",
        "    return arr[np.random.choice(len(arr), size=size, replace=False)]\n",
        "def diff(lst1, lst2):\n",
        "    return list(set(lst1) - set(lst2))"
      ]
    },
    {
      "cell_type": "code",
      "execution_count": 3,
      "metadata": {},
      "outputs": [],
      "source": [
        "drive_path = \"C:/Users/Eugene Chen/Desktop/UNI/Project/Data/\""
      ]
    },
    {
      "cell_type": "code",
      "execution_count": 43,
      "metadata": {
        "id": "qQ0yp5xRtcn_"
      },
      "outputs": [],
      "source": [
        "seizure_pointers = pd.read_excel(drive_path+'seizure data.xlsx', index_col=0)\n",
        "seizure_pointers['index'] = seizure_pointers['seizure_file'] +\" \"+ seizure_pointers['seizure_number'].astype(str)\n",
        "seizure_pointers=seizure_pointers.set_index('index')\n",
        "channels = ['P8-O2', 'C4-P4', 'FP1-F3', 'FP2-F8', 'CZ-PZ', 'FP1-F7', 'T7-P7', 'C3-P3', 'FP2-F4', 'P4-O2', 'F8-T8', 'F7-T7', 'F3-C3', 'FZ-CZ', 'P3-O1', 'P7-O1', 'F4-C4']"
      ]
    },
    {
      "cell_type": "code",
      "execution_count": 5,
      "metadata": {
        "id": "nTA-28ZZuO6b"
      },
      "outputs": [],
      "source": [
        "# constants\n",
        "EPOCH_DURATION = 2\n",
        "OVERLAP_DURATION = 1"
      ]
    },
    {
      "cell_type": "code",
      "execution_count": 6,
      "metadata": {},
      "outputs": [
        {
          "data": {
            "text/html": [
              "<div>\n",
              "<style scoped>\n",
              "    .dataframe tbody tr th:only-of-type {\n",
              "        vertical-align: middle;\n",
              "    }\n",
              "\n",
              "    .dataframe tbody tr th {\n",
              "        vertical-align: top;\n",
              "    }\n",
              "\n",
              "    .dataframe thead th {\n",
              "        text-align: right;\n",
              "    }\n",
              "</style>\n",
              "<table border=\"1\" class=\"dataframe\">\n",
              "  <thead>\n",
              "    <tr style=\"text-align: right;\">\n",
              "      <th></th>\n",
              "      <th>case</th>\n",
              "      <th>seizure_file</th>\n",
              "      <th>number_of_channels</th>\n",
              "      <th>channels</th>\n",
              "      <th>seizure_number</th>\n",
              "      <th>seizure_start</th>\n",
              "      <th>seizure_end</th>\n",
              "      <th>seizure_duration</th>\n",
              "    </tr>\n",
              "    <tr>\n",
              "      <th>index</th>\n",
              "      <th></th>\n",
              "      <th></th>\n",
              "      <th></th>\n",
              "      <th></th>\n",
              "      <th></th>\n",
              "      <th></th>\n",
              "      <th></th>\n",
              "      <th></th>\n",
              "    </tr>\n",
              "  </thead>\n",
              "  <tbody>\n",
              "    <tr>\n",
              "      <th>chb01_03 1</th>\n",
              "      <td>chb01</td>\n",
              "      <td>chb01_03</td>\n",
              "      <td>22</td>\n",
              "      <td>['P8-O2', 'C4-P4', 'T8-P8', 'T7-FT9', 'FP1-F3'...</td>\n",
              "      <td>1</td>\n",
              "      <td>2996</td>\n",
              "      <td>3036</td>\n",
              "      <td>40</td>\n",
              "    </tr>\n",
              "    <tr>\n",
              "      <th>chb01_04 1</th>\n",
              "      <td>chb01</td>\n",
              "      <td>chb01_04</td>\n",
              "      <td>22</td>\n",
              "      <td>['P8-O2', 'C4-P4', 'T8-P8', 'T7-FT9', 'FP1-F3'...</td>\n",
              "      <td>1</td>\n",
              "      <td>1467</td>\n",
              "      <td>1494</td>\n",
              "      <td>27</td>\n",
              "    </tr>\n",
              "    <tr>\n",
              "      <th>chb01_15 1</th>\n",
              "      <td>chb01</td>\n",
              "      <td>chb01_15</td>\n",
              "      <td>22</td>\n",
              "      <td>['P8-O2', 'C4-P4', 'T8-P8', 'T7-FT9', 'FP1-F3'...</td>\n",
              "      <td>1</td>\n",
              "      <td>1732</td>\n",
              "      <td>1772</td>\n",
              "      <td>40</td>\n",
              "    </tr>\n",
              "    <tr>\n",
              "      <th>chb01_16 1</th>\n",
              "      <td>chb01</td>\n",
              "      <td>chb01_16</td>\n",
              "      <td>22</td>\n",
              "      <td>['P8-O2', 'C4-P4', 'T8-P8', 'T7-FT9', 'FP1-F3'...</td>\n",
              "      <td>1</td>\n",
              "      <td>1015</td>\n",
              "      <td>1066</td>\n",
              "      <td>51</td>\n",
              "    </tr>\n",
              "    <tr>\n",
              "      <th>chb01_18 1</th>\n",
              "      <td>chb01</td>\n",
              "      <td>chb01_18</td>\n",
              "      <td>22</td>\n",
              "      <td>['P8-O2', 'C4-P4', 'T8-P8', 'T7-FT9', 'FP1-F3'...</td>\n",
              "      <td>1</td>\n",
              "      <td>1720</td>\n",
              "      <td>1810</td>\n",
              "      <td>90</td>\n",
              "    </tr>\n",
              "    <tr>\n",
              "      <th>chb01_21 1</th>\n",
              "      <td>chb01</td>\n",
              "      <td>chb01_21</td>\n",
              "      <td>22</td>\n",
              "      <td>['P8-O2', 'C4-P4', 'T8-P8', 'T7-FT9', 'FP1-F3'...</td>\n",
              "      <td>1</td>\n",
              "      <td>327</td>\n",
              "      <td>420</td>\n",
              "      <td>93</td>\n",
              "    </tr>\n",
              "    <tr>\n",
              "      <th>chb01_26 1</th>\n",
              "      <td>chb01</td>\n",
              "      <td>chb01_26</td>\n",
              "      <td>22</td>\n",
              "      <td>['P8-O2', 'C4-P4', 'T8-P8', 'T7-FT9', 'FP1-F3'...</td>\n",
              "      <td>1</td>\n",
              "      <td>1862</td>\n",
              "      <td>1963</td>\n",
              "      <td>101</td>\n",
              "    </tr>\n",
              "    <tr>\n",
              "      <th>chb02_16 1</th>\n",
              "      <td>chb02</td>\n",
              "      <td>chb02_16</td>\n",
              "      <td>22</td>\n",
              "      <td>['P8-O2', 'C4-P4', 'T8-P8', 'T7-FT9', 'FP1-F3'...</td>\n",
              "      <td>1</td>\n",
              "      <td>130</td>\n",
              "      <td>212</td>\n",
              "      <td>82</td>\n",
              "    </tr>\n",
              "    <tr>\n",
              "      <th>chb02_17 1</th>\n",
              "      <td>chb02</td>\n",
              "      <td>chb02_17</td>\n",
              "      <td>22</td>\n",
              "      <td>['P8-O2', 'C4-P4', 'T8-P8', 'T7-FT9', 'FP1-F3'...</td>\n",
              "      <td>1</td>\n",
              "      <td>2972</td>\n",
              "      <td>3053</td>\n",
              "      <td>81</td>\n",
              "    </tr>\n",
              "    <tr>\n",
              "      <th>chb02_18 1</th>\n",
              "      <td>chb02</td>\n",
              "      <td>chb02_18</td>\n",
              "      <td>22</td>\n",
              "      <td>['P8-O2', 'C4-P4', 'T8-P8', 'T7-FT9', 'FP1-F3'...</td>\n",
              "      <td>1</td>\n",
              "      <td>3369</td>\n",
              "      <td>3378</td>\n",
              "      <td>9</td>\n",
              "    </tr>\n",
              "  </tbody>\n",
              "</table>\n",
              "</div>"
            ],
            "text/plain": [
              "             case seizure_file  number_of_channels  \\\n",
              "index                                                \n",
              "chb01_03 1  chb01     chb01_03                  22   \n",
              "chb01_04 1  chb01     chb01_04                  22   \n",
              "chb01_15 1  chb01     chb01_15                  22   \n",
              "chb01_16 1  chb01     chb01_16                  22   \n",
              "chb01_18 1  chb01     chb01_18                  22   \n",
              "chb01_21 1  chb01     chb01_21                  22   \n",
              "chb01_26 1  chb01     chb01_26                  22   \n",
              "chb02_16 1  chb02     chb02_16                  22   \n",
              "chb02_17 1  chb02     chb02_17                  22   \n",
              "chb02_18 1  chb02     chb02_18                  22   \n",
              "\n",
              "                                                     channels  seizure_number  \\\n",
              "index                                                                           \n",
              "chb01_03 1  ['P8-O2', 'C4-P4', 'T8-P8', 'T7-FT9', 'FP1-F3'...               1   \n",
              "chb01_04 1  ['P8-O2', 'C4-P4', 'T8-P8', 'T7-FT9', 'FP1-F3'...               1   \n",
              "chb01_15 1  ['P8-O2', 'C4-P4', 'T8-P8', 'T7-FT9', 'FP1-F3'...               1   \n",
              "chb01_16 1  ['P8-O2', 'C4-P4', 'T8-P8', 'T7-FT9', 'FP1-F3'...               1   \n",
              "chb01_18 1  ['P8-O2', 'C4-P4', 'T8-P8', 'T7-FT9', 'FP1-F3'...               1   \n",
              "chb01_21 1  ['P8-O2', 'C4-P4', 'T8-P8', 'T7-FT9', 'FP1-F3'...               1   \n",
              "chb01_26 1  ['P8-O2', 'C4-P4', 'T8-P8', 'T7-FT9', 'FP1-F3'...               1   \n",
              "chb02_16 1  ['P8-O2', 'C4-P4', 'T8-P8', 'T7-FT9', 'FP1-F3'...               1   \n",
              "chb02_17 1  ['P8-O2', 'C4-P4', 'T8-P8', 'T7-FT9', 'FP1-F3'...               1   \n",
              "chb02_18 1  ['P8-O2', 'C4-P4', 'T8-P8', 'T7-FT9', 'FP1-F3'...               1   \n",
              "\n",
              "            seizure_start  seizure_end  seizure_duration  \n",
              "index                                                     \n",
              "chb01_03 1           2996         3036                40  \n",
              "chb01_04 1           1467         1494                27  \n",
              "chb01_15 1           1732         1772                40  \n",
              "chb01_16 1           1015         1066                51  \n",
              "chb01_18 1           1720         1810                90  \n",
              "chb01_21 1            327          420                93  \n",
              "chb01_26 1           1862         1963               101  \n",
              "chb02_16 1            130          212                82  \n",
              "chb02_17 1           2972         3053                81  \n",
              "chb02_18 1           3369         3378                 9  "
            ]
          },
          "execution_count": 6,
          "metadata": {},
          "output_type": "execute_result"
        }
      ],
      "source": [
        "seizure_pointers.head(10)"
      ]
    },
    {
      "cell_type": "code",
      "execution_count": 7,
      "metadata": {},
      "outputs": [
        {
          "data": {
            "text/plain": [
              "7"
            ]
          },
          "execution_count": 7,
          "metadata": {},
          "output_type": "execute_result"
        }
      ],
      "source": [
        "seizure_pointers[seizure_pointers.case == \"chb01\"].shape[0]"
      ]
    },
    {
      "cell_type": "code",
      "execution_count": 8,
      "metadata": {},
      "outputs": [],
      "source": [
        "target = \"chb16\""
      ]
    },
    {
      "cell_type": "code",
      "execution_count": 9,
      "metadata": {},
      "outputs": [],
      "source": [
        "patient = seizure_pointers[seizure_pointers[\"case\"] == target]"
      ]
    },
    {
      "cell_type": "code",
      "execution_count": 10,
      "metadata": {},
      "outputs": [
        {
          "data": {
            "text/html": [
              "<div>\n",
              "<style scoped>\n",
              "    .dataframe tbody tr th:only-of-type {\n",
              "        vertical-align: middle;\n",
              "    }\n",
              "\n",
              "    .dataframe tbody tr th {\n",
              "        vertical-align: top;\n",
              "    }\n",
              "\n",
              "    .dataframe thead th {\n",
              "        text-align: right;\n",
              "    }\n",
              "</style>\n",
              "<table border=\"1\" class=\"dataframe\">\n",
              "  <thead>\n",
              "    <tr style=\"text-align: right;\">\n",
              "      <th></th>\n",
              "      <th>case</th>\n",
              "      <th>seizure_file</th>\n",
              "      <th>number_of_channels</th>\n",
              "      <th>channels</th>\n",
              "      <th>seizure_number</th>\n",
              "      <th>seizure_start</th>\n",
              "      <th>seizure_end</th>\n",
              "      <th>seizure_duration</th>\n",
              "    </tr>\n",
              "    <tr>\n",
              "      <th>index</th>\n",
              "      <th></th>\n",
              "      <th></th>\n",
              "      <th></th>\n",
              "      <th></th>\n",
              "      <th></th>\n",
              "      <th></th>\n",
              "      <th></th>\n",
              "      <th></th>\n",
              "    </tr>\n",
              "  </thead>\n",
              "  <tbody>\n",
              "    <tr>\n",
              "      <th>chb16_18 1</th>\n",
              "      <td>chb16</td>\n",
              "      <td>chb16_18</td>\n",
              "      <td>23</td>\n",
              "      <td>['P8-O2', 'C4-P4', 'T8-P8', '-', 'T7-FT9', 'FP...</td>\n",
              "      <td>1</td>\n",
              "      <td>627</td>\n",
              "      <td>635</td>\n",
              "      <td>8</td>\n",
              "    </tr>\n",
              "    <tr>\n",
              "      <th>chb16_18 2</th>\n",
              "      <td>chb16</td>\n",
              "      <td>chb16_18</td>\n",
              "      <td>23</td>\n",
              "      <td>['P8-O2', 'C4-P4', 'T8-P8', '-', 'T7-FT9', 'FP...</td>\n",
              "      <td>2</td>\n",
              "      <td>1909</td>\n",
              "      <td>1916</td>\n",
              "      <td>7</td>\n",
              "    </tr>\n",
              "  </tbody>\n",
              "</table>\n",
              "</div>"
            ],
            "text/plain": [
              "             case seizure_file  number_of_channels  \\\n",
              "index                                                \n",
              "chb16_18 1  chb16     chb16_18                  23   \n",
              "chb16_18 2  chb16     chb16_18                  23   \n",
              "\n",
              "                                                     channels  seizure_number  \\\n",
              "index                                                                           \n",
              "chb16_18 1  ['P8-O2', 'C4-P4', 'T8-P8', '-', 'T7-FT9', 'FP...               1   \n",
              "chb16_18 2  ['P8-O2', 'C4-P4', 'T8-P8', '-', 'T7-FT9', 'FP...               2   \n",
              "\n",
              "            seizure_start  seizure_end  seizure_duration  \n",
              "index                                                     \n",
              "chb16_18 1            627          635                 8  \n",
              "chb16_18 2           1909         1916                 7  "
            ]
          },
          "execution_count": 10,
          "metadata": {},
          "output_type": "execute_result"
        }
      ],
      "source": [
        "record = None\n",
        "for i,sesion in patient.groupby(\"seizure_file\"):\n",
        "    pass\n",
        "sesion.head()"
      ]
    },
    {
      "cell_type": "code",
      "execution_count": 11,
      "metadata": {},
      "outputs": [
        {
          "data": {
            "text/plain": [
              "[627, 1909]"
            ]
          },
          "execution_count": 11,
          "metadata": {},
          "output_type": "execute_result"
        }
      ],
      "source": [
        "seizure_start = list(sesion.seizure_start.values)\n",
        "seizure_start"
      ]
    },
    {
      "cell_type": "code",
      "execution_count": 12,
      "metadata": {},
      "outputs": [
        {
          "data": {
            "text/plain": [
              "[8, 7]"
            ]
          },
          "execution_count": 12,
          "metadata": {},
          "output_type": "execute_result"
        }
      ],
      "source": [
        "seizure_duration = list(sesion.seizure_duration.values)\n",
        "seizure_duration"
      ]
    },
    {
      "cell_type": "code",
      "execution_count": 27,
      "metadata": {},
      "outputs": [
        {
          "name": "stdout",
          "output_type": "stream",
          "text": [
            "Filtering raw data in 1 contiguous segment\n",
            "Setting up band-pass filter from 1 - 40 Hz\n",
            "\n",
            "FIR filter parameters\n",
            "---------------------\n",
            "Designing a one-pass, zero-phase, non-causal bandpass filter:\n",
            "- Windowed time-domain design (firwin) method\n",
            "- Hamming window with 0.0194 passband ripple and 53 dB stopband attenuation\n",
            "- Lower passband edge: 1.00\n",
            "- Lower transition bandwidth: 1.00 Hz (-6 dB cutoff frequency: 0.50 Hz)\n",
            "- Upper passband edge: 40.00 Hz\n",
            "- Upper transition bandwidth: 10.00 Hz (-6 dB cutoff frequency: 45.00 Hz)\n",
            "- Filter length: 845 samples (3.301 sec)\n",
            "\n"
          ]
        },
        {
          "name": "stderr",
          "output_type": "stream",
          "text": [
            "[Parallel(n_jobs=1)]: Using backend SequentialBackend with 1 concurrent workers.\n",
            "[Parallel(n_jobs=1)]: Done   1 out of   1 | elapsed:    0.0s remaining:    0.0s\n",
            "[Parallel(n_jobs=1)]: Done   2 out of   2 | elapsed:    0.0s remaining:    0.0s\n",
            "[Parallel(n_jobs=1)]: Done   3 out of   3 | elapsed:    0.0s remaining:    0.0s\n",
            "[Parallel(n_jobs=1)]: Done   4 out of   4 | elapsed:    0.0s remaining:    0.0s\n",
            "[Parallel(n_jobs=1)]: Done  17 out of  17 | elapsed:    0.3s finished\n"
          ]
        },
        {
          "data": {
            "text/html": [
              "<table class=\"table table-hover table-striped table-sm table-responsive small\">\n",
              "    <tr>\n",
              "        <th>Measurement date</th>\n",
              "        \n",
              "        <td>May 28, 2062  09:41:36 GMT</td>\n",
              "        \n",
              "    </tr>\n",
              "    <tr>\n",
              "        <th>Experimenter</th>\n",
              "        \n",
              "        <td>Unknown</td>\n",
              "        \n",
              "    </tr>\n",
              "        <th>Participant</th>\n",
              "        \n",
              "        <td>Unknown</td>\n",
              "        \n",
              "    </tr>\n",
              "    <tr>\n",
              "        <th>Digitized points</th>\n",
              "        \n",
              "        <td>Not available</td>\n",
              "        \n",
              "    </tr>\n",
              "    <tr>\n",
              "        <th>Good channels</th>\n",
              "        <td>17 EEG</td>\n",
              "    </tr>\n",
              "    <tr>\n",
              "        <th>Bad channels</th>\n",
              "        <td>None</td>\n",
              "    </tr>\n",
              "    <tr>\n",
              "        <th>EOG channels</th>\n",
              "        <td>Not available</td>\n",
              "    </tr>\n",
              "    <tr>\n",
              "        <th>ECG channels</th>\n",
              "        <td>Not available</td>\n",
              "    \n",
              "    <tr>\n",
              "        <th>Sampling frequency</th>\n",
              "        <td>256.00 Hz</td>\n",
              "    </tr>\n",
              "    \n",
              "    \n",
              "    <tr>\n",
              "        <th>Highpass</th>\n",
              "        <td>1.00 Hz</td>\n",
              "    </tr>\n",
              "    \n",
              "    \n",
              "    <tr>\n",
              "        <th>Lowpass</th>\n",
              "        <td>40.00 Hz</td>\n",
              "    </tr>\n",
              "    \n",
              "    \n",
              "    \n",
              "    <tr>\n",
              "        <th>Filenames</th>\n",
              "        <td>chb16_18.edf</td>\n",
              "    </tr>\n",
              "    \n",
              "    <tr>\n",
              "        <th>Duration</th>\n",
              "        <td>00:59:59 (HH:MM:SS)</td>\n",
              "    </tr>\n",
              "</table>"
            ],
            "text/plain": [
              "<RawEDF | chb16_18.edf, 17 x 921600 (3600.0 s), ~119.6 MB, data loaded>"
            ]
          },
          "execution_count": 27,
          "metadata": {},
          "output_type": "execute_result"
        }
      ],
      "source": [
        "edf_data.filter(h_freq=40, l_freq=1)"
      ]
    },
    {
      "cell_type": "code",
      "execution_count": 29,
      "metadata": {},
      "outputs": [],
      "source": [
        "edf_data = mne.io.read_raw_edf(drive_path+'chb-mit-scalp-eeg-database-1.0.0/'+sesion['case'][0]+'/'+sesion['seizure_file'][0]+'.edf/', preload=True, verbose=40)\n",
        "if len(diff(channels, edf_data.ch_names))==0:\n",
        "    edf_data.filter(h_freq=40, l_freq=1, verbose=False)\n",
        "    edf_data.drop_channels(diff(edf_data.ch_names, channels))\n",
        "    seizures = mne.Annotations(onset=seizure_start, duration=seizure_duration, description='bad')\n",
        "    edf_data.set_annotations(seizures)\n",
        "    raw_seizures = mne.concatenate_raws(edf_data.crop_by_annotations(), verbose=False)\n",
        "    seizures = mne.make_fixed_length_epochs(raw_seizures,EPOCH_DURATION,overlap=OVERLAP_DURATION,reject_by_annotation=False, verbose=False)\n",
        "    non_seizures = mne.make_fixed_length_epochs(edf_data,EPOCH_DURATION,reject_by_annotation=True, preload = 'fast', verbose=False)"
      ]
    },
    {
      "cell_type": "code",
      "execution_count": 52,
      "metadata": {},
      "outputs": [
        {
          "name": "stdout",
          "output_type": "stream",
          "text": [
            "Using data from preloaded Raw for 14 events and 512 original time points ...\n"
          ]
        },
        {
          "data": {
            "text/plain": [
              "(14, 17, 512)"
            ]
          },
          "execution_count": 52,
          "metadata": {},
          "output_type": "execute_result"
        }
      ],
      "source": [
        "seizures.get_data().shape"
      ]
    },
    {
      "cell_type": "code",
      "execution_count": 53,
      "metadata": {},
      "outputs": [
        {
          "name": "stdout",
          "output_type": "stream",
          "text": [
            "Using data from preloaded Raw for 14 events and 512 original time points ...\n"
          ]
        }
      ],
      "source": [
        "seizure = seizures.get_data()[0][0]"
      ]
    },
    {
      "cell_type": "code",
      "execution_count": 55,
      "metadata": {},
      "outputs": [],
      "source": [
        "ictal_ft = rfft(seizure)\n",
        "N = len(ictal_ft)\n",
        "n = np.arange(N)\n",
        "T = 2\n",
        "freq = n/T"
      ]
    },
    {
      "cell_type": "code",
      "execution_count": 56,
      "metadata": {},
      "outputs": [
        {
          "name": "stderr",
          "output_type": "stream",
          "text": [
            "c:\\Users\\Eugene Chen\\.conda\\envs\\mne\\lib\\site-packages\\matplotlib\\cbook\\__init__.py:1369: ComplexWarning: Casting complex values to real discards the imaginary part\n",
            "  return np.asarray(x, float)\n"
          ]
        },
        {
          "data": {
            "image/png": "[encoded data removed]",
            "text/plain": [
              "<Figure size 640x480 with 1 Axes>"
            ]
          },
          "metadata": {},
          "output_type": "display_data"
        }
      ],
      "source": [
        "plt.plot(v,ictal_ft)\n",
        "plt.show()"
      ]
    },
    {
      "cell_type": "code",
      "execution_count": 33,
      "metadata": {},
      "outputs": [
        {
          "data": {
            "text/plain": [
              "(1791, 17, 512)"
            ]
          },
          "execution_count": 33,
          "metadata": {},
          "output_type": "execute_result"
        }
      ],
      "source": [
        "non_seizures.get_data().shape"
      ]
    },
    {
      "cell_type": "code",
      "execution_count": 18,
      "metadata": {
        "colab": {
          "base_uri": "https://localhost:8080/"
        },
        "id": "1JROloqQ_-0b",
        "outputId": "1d067abf-8bbc-4ece-cf3a-444a19c50825"
      },
      "outputs": [
        {
          "name": "stdout",
          "output_type": "stream",
          "text": [
            "4/197\n",
            "chb01_18 1\n",
            "current channels: ['FP1-F7', 'F7-T7', 'T7-P7', 'P7-O1', 'FP1-F3', 'F3-C3', 'C3-P3', 'P3-O1', 'FP2-F4', 'F4-C4', 'C4-P4', 'P4-O2', 'FP2-F8', 'F8-T8', 'T8-P8-0', 'P8-O2', 'FZ-CZ', 'CZ-PZ', 'P7-T7', 'T7-FT9', 'FT9-FT10', 'FT10-T8', 'T8-P8-1']\n",
            "dropping channels: ['T7-FT9', 'P7-T7', 'T8-P8-1', 'FT10-T8', 'FT9-FT10', 'T8-P8-0']\n",
            "not contains channels: []\n",
            "Loading data for 45 events and 512 original time points ...\n",
            "0 bad epochs dropped\n"
          ]
        },
        {
          "ename": "KeyboardInterrupt",
          "evalue": "",
          "output_type": "error",
          "traceback": [
            "\u001b[1;31m---------------------------------------------------------------------------\u001b[0m",
            "\u001b[1;31mKeyboardInterrupt\u001b[0m                         Traceback (most recent call last)",
            "Cell \u001b[1;32mIn [18], line 31\u001b[0m\n\u001b[0;32m     29\u001b[0m seizures \u001b[39m=\u001b[39m mne\u001b[39m.\u001b[39mmake_fixed_length_epochs(raw_seizures,EPOCH_DURATION,reject_by_annotation\u001b[39m=\u001b[39m\u001b[39mFalse\u001b[39;00m, verbose\u001b[39m=\u001b[39m\u001b[39mFalse\u001b[39;00m)\n\u001b[0;32m     30\u001b[0m seizures_array \u001b[39m=\u001b[39m np\u001b[39m.\u001b[39mconcatenate((seizures_array,seizures\u001b[39m.\u001b[39mget_data()), axis\u001b[39m=\u001b[39m\u001b[39m0\u001b[39m)\n\u001b[1;32m---> 31\u001b[0m non_seizures \u001b[39m=\u001b[39m mne\u001b[39m.\u001b[39mmake_fixed_length_epochs(edf_data,EPOCH_DURATION,reject_by_annotation\u001b[39m=\u001b[39m\u001b[39mTrue\u001b[39;00m, preload \u001b[39m=\u001b[39m \u001b[39m'\u001b[39m\u001b[39mfast\u001b[39m\u001b[39m'\u001b[39m, verbose\u001b[39m=\u001b[39m\u001b[39mFalse\u001b[39;00m)\n\u001b[0;32m     32\u001b[0m epoch_list\u001b[39m.\u001b[39mappend(non_seizures)\n",
            "File \u001b[1;32m<decorator-gen-269>:10\u001b[0m, in \u001b[0;36mmake_fixed_length_epochs\u001b[1;34m(raw, duration, preload, reject_by_annotation, proj, overlap, id, verbose)\u001b[0m\n",
            "File \u001b[1;32mc:\\Users\\Eugene Chen\\.conda\\envs\\mne\\lib\\site-packages\\mne\\epochs.py:3773\u001b[0m, in \u001b[0;36mmake_fixed_length_epochs\u001b[1;34m(raw, duration, preload, reject_by_annotation, proj, overlap, id, verbose)\u001b[0m\n\u001b[0;32m   3770\u001b[0m events \u001b[39m=\u001b[39m make_fixed_length_events(raw, \u001b[39mid\u001b[39m\u001b[39m=\u001b[39m\u001b[39mid\u001b[39m, duration\u001b[39m=\u001b[39mduration,\n\u001b[0;32m   3771\u001b[0m                                   overlap\u001b[39m=\u001b[39moverlap)\n\u001b[0;32m   3772\u001b[0m delta \u001b[39m=\u001b[39m \u001b[39m1.\u001b[39m \u001b[39m/\u001b[39m raw\u001b[39m.\u001b[39minfo[\u001b[39m'\u001b[39m\u001b[39msfreq\u001b[39m\u001b[39m'\u001b[39m]\n\u001b[1;32m-> 3773\u001b[0m \u001b[39mreturn\u001b[39;00m Epochs(raw, events, event_id\u001b[39m=\u001b[39;49m[\u001b[39mid\u001b[39;49m], tmin\u001b[39m=\u001b[39;49m\u001b[39m0\u001b[39;49m, tmax\u001b[39m=\u001b[39;49mduration \u001b[39m-\u001b[39;49m delta,\n\u001b[0;32m   3774\u001b[0m               baseline\u001b[39m=\u001b[39;49m\u001b[39mNone\u001b[39;49;00m, preload\u001b[39m=\u001b[39;49mpreload,\n\u001b[0;32m   3775\u001b[0m               reject_by_annotation\u001b[39m=\u001b[39;49mreject_by_annotation, proj\u001b[39m=\u001b[39;49mproj,\n\u001b[0;32m   3776\u001b[0m               verbose\u001b[39m=\u001b[39;49mverbose)\n",
            "File \u001b[1;32m<decorator-gen-259>:10\u001b[0m, in \u001b[0;36m__init__\u001b[1;34m(self, raw, events, event_id, tmin, tmax, baseline, picks, preload, reject, flat, proj, decim, reject_tmin, reject_tmax, detrend, on_missing, reject_by_annotation, metadata, event_repeated, verbose)\u001b[0m\n",
            "File \u001b[1;32mc:\\Users\\Eugene Chen\\.conda\\envs\\mne\\lib\\site-packages\\mne\\epochs.py:2570\u001b[0m, in \u001b[0;36mEpochs.__init__\u001b[1;34m(self, raw, events, event_id, tmin, tmax, baseline, picks, preload, reject, flat, proj, decim, reject_tmin, reject_tmax, detrend, on_missing, reject_by_annotation, metadata, event_repeated, verbose)\u001b[0m\n\u001b[0;32m   2567\u001b[0m raw_sfreq \u001b[39m=\u001b[39m raw\u001b[39m.\u001b[39minfo[\u001b[39m'\u001b[39m\u001b[39msfreq\u001b[39m\u001b[39m'\u001b[39m]\n\u001b[0;32m   2569\u001b[0m \u001b[39m# call BaseEpochs constructor\u001b[39;00m\n\u001b[1;32m-> 2570\u001b[0m \u001b[39msuper\u001b[39;49m(Epochs, \u001b[39mself\u001b[39;49m)\u001b[39m.\u001b[39;49m\u001b[39m__init__\u001b[39;49m(\n\u001b[0;32m   2571\u001b[0m     info, \u001b[39mNone\u001b[39;49;00m, events, event_id, tmin, tmax,\n\u001b[0;32m   2572\u001b[0m     metadata\u001b[39m=\u001b[39;49mmetadata, baseline\u001b[39m=\u001b[39;49mbaseline, raw\u001b[39m=\u001b[39;49mraw, picks\u001b[39m=\u001b[39;49mpicks,\n\u001b[0;32m   2573\u001b[0m     reject\u001b[39m=\u001b[39;49mreject, flat\u001b[39m=\u001b[39;49mflat, decim\u001b[39m=\u001b[39;49mdecim, reject_tmin\u001b[39m=\u001b[39;49mreject_tmin,\n\u001b[0;32m   2574\u001b[0m     reject_tmax\u001b[39m=\u001b[39;49mreject_tmax, detrend\u001b[39m=\u001b[39;49mdetrend,\n\u001b[0;32m   2575\u001b[0m     proj\u001b[39m=\u001b[39;49mproj, on_missing\u001b[39m=\u001b[39;49mon_missing, preload_at_end\u001b[39m=\u001b[39;49mpreload,\n\u001b[0;32m   2576\u001b[0m     event_repeated\u001b[39m=\u001b[39;49mevent_repeated, verbose\u001b[39m=\u001b[39;49mverbose,\n\u001b[0;32m   2577\u001b[0m     raw_sfreq\u001b[39m=\u001b[39;49mraw_sfreq, annotations\u001b[39m=\u001b[39;49mraw\u001b[39m.\u001b[39;49mannotations)\n",
            "File \u001b[1;32m<decorator-gen-247>:10\u001b[0m, in \u001b[0;36m__init__\u001b[1;34m(self, info, data, events, event_id, tmin, tmax, baseline, raw, picks, reject, flat, decim, reject_tmin, reject_tmax, detrend, proj, on_missing, preload_at_end, selection, drop_log, filename, metadata, event_repeated, verbose, raw_sfreq, annotations)\u001b[0m\n",
            "File \u001b[1;32mc:\\Users\\Eugene Chen\\.conda\\envs\\mne\\lib\\site-packages\\mne\\epochs.py:586\u001b[0m, in \u001b[0;36mBaseEpochs.__init__\u001b[1;34m(***failed resolving arguments***)\u001b[0m\n\u001b[0;32m    584\u001b[0m     \u001b[39massert\u001b[39;00m \u001b[39mself\u001b[39m\u001b[39m.\u001b[39m_data \u001b[39mis\u001b[39;00m \u001b[39mNone\u001b[39;00m\n\u001b[0;32m    585\u001b[0m     \u001b[39massert\u001b[39;00m \u001b[39mself\u001b[39m\u001b[39m.\u001b[39mpreload \u001b[39mis\u001b[39;00m \u001b[39mFalse\u001b[39;00m\n\u001b[1;32m--> 586\u001b[0m     \u001b[39mself\u001b[39;49m\u001b[39m.\u001b[39;49mload_data()  \u001b[39m# this will do the projection\u001b[39;00m\n\u001b[0;32m    587\u001b[0m \u001b[39melif\u001b[39;00m proj \u001b[39mis\u001b[39;00m \u001b[39mTrue\u001b[39;00m \u001b[39mand\u001b[39;00m \u001b[39mself\u001b[39m\u001b[39m.\u001b[39m_projector \u001b[39mis\u001b[39;00m \u001b[39mnot\u001b[39;00m \u001b[39mNone\u001b[39;00m \u001b[39mand\u001b[39;00m data \u001b[39mis\u001b[39;00m \u001b[39mnot\u001b[39;00m \u001b[39mNone\u001b[39;00m:\n\u001b[0;32m    588\u001b[0m     \u001b[39m# let's make sure we project if data was provided and proj\u001b[39;00m\n\u001b[0;32m    589\u001b[0m     \u001b[39m# requested\u001b[39;00m\n\u001b[0;32m    590\u001b[0m     \u001b[39m# we could do this with np.einsum, but iteration should be\u001b[39;00m\n\u001b[0;32m    591\u001b[0m     \u001b[39m# more memory safe in most instances\u001b[39;00m\n\u001b[0;32m    592\u001b[0m     \u001b[39mfor\u001b[39;00m ii, epoch \u001b[39min\u001b[39;00m \u001b[39menumerate\u001b[39m(\u001b[39mself\u001b[39m\u001b[39m.\u001b[39m_data):\n",
            "File \u001b[1;32mc:\\Users\\Eugene Chen\\.conda\\envs\\mne\\lib\\site-packages\\mne\\epochs.py:643\u001b[0m, in \u001b[0;36mBaseEpochs.load_data\u001b[1;34m(self)\u001b[0m\n\u001b[0;32m    641\u001b[0m \u001b[39mif\u001b[39;00m \u001b[39mself\u001b[39m\u001b[39m.\u001b[39mpreload:\n\u001b[0;32m    642\u001b[0m     \u001b[39mreturn\u001b[39;00m \u001b[39mself\u001b[39m\n\u001b[1;32m--> 643\u001b[0m \u001b[39mself\u001b[39m\u001b[39m.\u001b[39m_data \u001b[39m=\u001b[39m \u001b[39mself\u001b[39;49m\u001b[39m.\u001b[39;49m_get_data()\n\u001b[0;32m    644\u001b[0m \u001b[39mself\u001b[39m\u001b[39m.\u001b[39mpreload \u001b[39m=\u001b[39m \u001b[39mTrue\u001b[39;00m\n\u001b[0;32m    645\u001b[0m \u001b[39mself\u001b[39m\u001b[39m.\u001b[39m_do_baseline \u001b[39m=\u001b[39m \u001b[39mFalse\u001b[39;00m\n",
            "File \u001b[1;32m<decorator-gen-253>:12\u001b[0m, in \u001b[0;36m_get_data\u001b[1;34m(self, out, picks, item, units, tmin, tmax, verbose)\u001b[0m\n",
            "File \u001b[1;32mc:\\Users\\Eugene Chen\\.conda\\envs\\mne\\lib\\site-packages\\mne\\epochs.py:1446\u001b[0m, in \u001b[0;36mBaseEpochs._get_data\u001b[1;34m(self, out, picks, item, units, tmin, tmax, verbose)\u001b[0m\n\u001b[0;32m   1444\u001b[0m         epoch \u001b[39m=\u001b[39m \u001b[39mself\u001b[39m\u001b[39m.\u001b[39m_data[idx]\n\u001b[0;32m   1445\u001b[0m \u001b[39melse\u001b[39;00m:  \u001b[39m# from disk\u001b[39;00m\n\u001b[1;32m-> 1446\u001b[0m     epoch_noproj \u001b[39m=\u001b[39m \u001b[39mself\u001b[39;49m\u001b[39m.\u001b[39;49m_get_epoch_from_raw(idx)\n\u001b[0;32m   1447\u001b[0m     epoch_noproj \u001b[39m=\u001b[39m \u001b[39mself\u001b[39m\u001b[39m.\u001b[39m_detrend_offset_decim(\n\u001b[0;32m   1448\u001b[0m         epoch_noproj, detrend_picks)\n\u001b[0;32m   1449\u001b[0m     epoch \u001b[39m=\u001b[39m \u001b[39mself\u001b[39m\u001b[39m.\u001b[39m_project_epoch(epoch_noproj)\n",
            "File \u001b[1;32m<decorator-gen-260>:12\u001b[0m, in \u001b[0;36m_get_epoch_from_raw\u001b[1;34m(self, idx, verbose)\u001b[0m\n",
            "File \u001b[1;32mc:\\Users\\Eugene Chen\\.conda\\envs\\mne\\lib\\site-packages\\mne\\epochs.py:2618\u001b[0m, in \u001b[0;36mEpochs._get_epoch_from_raw\u001b[1;34m(self, idx, verbose)\u001b[0m\n\u001b[0;32m   2615\u001b[0m reject_stop \u001b[39m=\u001b[39m stop \u001b[39m-\u001b[39m diff\n\u001b[0;32m   2617\u001b[0m logger\u001b[39m.\u001b[39mdebug(\u001b[39m'\u001b[39m\u001b[39m    Getting epoch for \u001b[39m\u001b[39m%d\u001b[39;00m\u001b[39m-\u001b[39m\u001b[39m%d\u001b[39;00m\u001b[39m'\u001b[39m \u001b[39m%\u001b[39m (start, stop))\n\u001b[1;32m-> 2618\u001b[0m data \u001b[39m=\u001b[39m \u001b[39mself\u001b[39;49m\u001b[39m.\u001b[39;49m_raw\u001b[39m.\u001b[39;49m_check_bad_segment(start, stop, \u001b[39mself\u001b[39;49m\u001b[39m.\u001b[39;49mpicks,\n\u001b[0;32m   2619\u001b[0m                                     reject_start, reject_stop,\n\u001b[0;32m   2620\u001b[0m                                     \u001b[39mself\u001b[39;49m\u001b[39m.\u001b[39;49mreject_by_annotation)\n\u001b[0;32m   2621\u001b[0m \u001b[39mreturn\u001b[39;00m data\n",
            "File \u001b[1;32mc:\\Users\\Eugene Chen\\.conda\\envs\\mne\\lib\\site-packages\\mne\\io\\base.py:472\u001b[0m, in \u001b[0;36mBaseRaw._check_bad_segment\u001b[1;34m(self, start, stop, picks, reject_start, reject_stop, reject_by_annotation)\u001b[0m\n\u001b[0;32m    470\u001b[0m         \u001b[39mif\u001b[39;00m descr\u001b[39m.\u001b[39mlower()\u001b[39m.\u001b[39mstartswith(\u001b[39m'\u001b[39m\u001b[39mbad\u001b[39m\u001b[39m'\u001b[39m):\n\u001b[0;32m    471\u001b[0m             \u001b[39mreturn\u001b[39;00m descr\n\u001b[1;32m--> 472\u001b[0m \u001b[39mreturn\u001b[39;00m \u001b[39mself\u001b[39;49m\u001b[39m.\u001b[39;49m_getitem((picks, \u001b[39mslice\u001b[39;49m(start, stop)), return_times\u001b[39m=\u001b[39;49m\u001b[39mFalse\u001b[39;49;00m)\n",
            "File \u001b[1;32mc:\\Users\\Eugene Chen\\.conda\\envs\\mne\\lib\\site-packages\\mne\\io\\base.py:754\u001b[0m, in \u001b[0;36mBaseRaw._getitem\u001b[1;34m(self, item, return_times)\u001b[0m\n\u001b[0;32m    752\u001b[0m     data \u001b[39m=\u001b[39m \u001b[39mself\u001b[39m\u001b[39m.\u001b[39m_data[sel, start:stop]\n\u001b[0;32m    753\u001b[0m \u001b[39melse\u001b[39;00m:\n\u001b[1;32m--> 754\u001b[0m     data \u001b[39m=\u001b[39m \u001b[39mself\u001b[39;49m\u001b[39m.\u001b[39;49m_read_segment(start\u001b[39m=\u001b[39;49mstart, stop\u001b[39m=\u001b[39;49mstop, sel\u001b[39m=\u001b[39;49msel,\n\u001b[0;32m    755\u001b[0m                               projector\u001b[39m=\u001b[39;49m\u001b[39mself\u001b[39;49m\u001b[39m.\u001b[39;49m_projector)\n\u001b[0;32m    757\u001b[0m \u001b[39mif\u001b[39;00m return_times:\n\u001b[0;32m    758\u001b[0m     \u001b[39m# Rather than compute the entire thing just compute the subset\u001b[39;00m\n\u001b[0;32m    759\u001b[0m     \u001b[39m# times = self.times[start:stop]\u001b[39;00m\n\u001b[0;32m    760\u001b[0m     \u001b[39m# stop can be None here so don't use it directly\u001b[39;00m\n\u001b[0;32m    761\u001b[0m     times \u001b[39m=\u001b[39m np\u001b[39m.\u001b[39marange(start, start \u001b[39m+\u001b[39m data\u001b[39m.\u001b[39mshape[\u001b[39m1\u001b[39m], dtype\u001b[39m=\u001b[39m\u001b[39mfloat\u001b[39m)\n",
            "File \u001b[1;32m<decorator-gen-209>:12\u001b[0m, in \u001b[0;36m_read_segment\u001b[1;34m(self, start, stop, sel, data_buffer, projector, verbose)\u001b[0m\n",
            "File \u001b[1;32mc:\\Users\\Eugene Chen\\.conda\\envs\\mne\\lib\\site-packages\\mne\\io\\base.py:390\u001b[0m, in \u001b[0;36mBaseRaw._read_segment\u001b[1;34m(***failed resolving arguments***)\u001b[0m\n\u001b[0;32m    388\u001b[0m     \u001b[39m# reindex back to original file\u001b[39;00m\n\u001b[0;32m    389\u001b[0m     orig_idx \u001b[39m=\u001b[39m _convert_slice(\u001b[39mself\u001b[39m\u001b[39m.\u001b[39m_read_picks[fi][need_idx])\n\u001b[1;32m--> 390\u001b[0m     _ReadSegmentFileProtector(\u001b[39mself\u001b[39;49m)\u001b[39m.\u001b[39;49m_read_segment_file(\n\u001b[0;32m    391\u001b[0m         data[:, this_sl], orig_idx, fi,\n\u001b[0;32m    392\u001b[0m         \u001b[39mint\u001b[39;49m(start_file), \u001b[39mint\u001b[39;49m(stop_file), cals, mult)\n\u001b[0;32m    393\u001b[0m     offset \u001b[39m+\u001b[39m\u001b[39m=\u001b[39m n_read\n\u001b[0;32m    394\u001b[0m \u001b[39mreturn\u001b[39;00m data\n",
            "File \u001b[1;32mc:\\Users\\Eugene Chen\\.conda\\envs\\mne\\lib\\site-packages\\mne\\io\\base.py:2131\u001b[0m, in \u001b[0;36m_ReadSegmentFileProtector._read_segment_file\u001b[1;34m(self, data, idx, fi, start, stop, cals, mult)\u001b[0m\n\u001b[0;32m   2130\u001b[0m \u001b[39mdef\u001b[39;00m \u001b[39m_read_segment_file\u001b[39m(\u001b[39mself\u001b[39m, data, idx, fi, start, stop, cals, mult):\n\u001b[1;32m-> 2131\u001b[0m     \u001b[39mreturn\u001b[39;00m \u001b[39mself\u001b[39;49m\u001b[39m.\u001b[39;49m__raw\u001b[39m.\u001b[39;49m\u001b[39m__class__\u001b[39;49m\u001b[39m.\u001b[39;49m_read_segment_file(\n\u001b[0;32m   2132\u001b[0m         \u001b[39mself\u001b[39;49m, data, idx, fi, start, stop, cals, mult)\n",
            "File \u001b[1;32mc:\\Users\\Eugene Chen\\.conda\\envs\\mne\\lib\\site-packages\\mne\\io\\edf\\edf.py:165\u001b[0m, in \u001b[0;36mRawEDF._read_segment_file\u001b[1;34m(self, data, idx, fi, start, stop, cals, mult)\u001b[0m\n\u001b[0;32m    163\u001b[0m \u001b[39mdef\u001b[39;00m \u001b[39m_read_segment_file\u001b[39m(\u001b[39mself\u001b[39m, data, idx, fi, start, stop, cals, mult):\n\u001b[0;32m    164\u001b[0m     \u001b[39m\"\"\"Read a chunk of raw data.\"\"\"\u001b[39;00m\n\u001b[1;32m--> 165\u001b[0m     \u001b[39mreturn\u001b[39;00m _read_segment_file(data, idx, fi, start, stop,\n\u001b[0;32m    166\u001b[0m                               \u001b[39mself\u001b[39;49m\u001b[39m.\u001b[39;49m_raw_extras[fi], \u001b[39mself\u001b[39;49m\u001b[39m.\u001b[39;49m_filenames[fi],\n\u001b[0;32m    167\u001b[0m                               cals, mult)\n",
            "File \u001b[1;32mc:\\Users\\Eugene Chen\\.conda\\envs\\mne\\lib\\site-packages\\mne\\io\\edf\\edf.py:352\u001b[0m, in \u001b[0;36m_read_segment_file\u001b[1;34m(data, idx, fi, start, stop, raw_extras, filenames, cals, mult)\u001b[0m\n\u001b[0;32m    350\u001b[0m                 ch_data \u001b[39m=\u001b[39m np\u001b[39m.\u001b[39mbitwise_and(ch_data\u001b[39m.\u001b[39mastype(\u001b[39mint\u001b[39m), \u001b[39m2\u001b[39m\u001b[39m*\u001b[39m\u001b[39m*\u001b[39m\u001b[39m17\u001b[39m \u001b[39m-\u001b[39m \u001b[39m1\u001b[39m)\n\u001b[0;32m    351\u001b[0m             one[orig_idx] \u001b[39m=\u001b[39m ch_data\u001b[39m.\u001b[39mravel()[r_sidx:r_eidx]\n\u001b[1;32m--> 352\u001b[0m         _mult_cal_one(data[:, d_sidx:d_eidx], one, idx, cals, mult)\n\u001b[0;32m    354\u001b[0m \u001b[39mif\u001b[39;00m \u001b[39mlen\u001b[39m(tal_data) \u001b[39m>\u001b[39m \u001b[39m1\u001b[39m:\n\u001b[0;32m    355\u001b[0m     tal_data \u001b[39m=\u001b[39m np\u001b[39m.\u001b[39mconcatenate([tal\u001b[39m.\u001b[39mravel() \u001b[39mfor\u001b[39;00m tal \u001b[39min\u001b[39;00m tal_data])\n",
            "File \u001b[1;32mc:\\Users\\Eugene Chen\\.conda\\envs\\mne\\lib\\site-packages\\mne\\io\\utils.py:91\u001b[0m, in \u001b[0;36m_mult_cal_one\u001b[1;34m(data_view, one, idx, cals, mult)\u001b[0m\n\u001b[0;32m     88\u001b[0m     data_view[:] \u001b[39m=\u001b[39m one[idx]\n\u001b[0;32m     89\u001b[0m \u001b[39melse\u001b[39;00m:\n\u001b[0;32m     90\u001b[0m     \u001b[39m# faster than doing one = one[idx]\u001b[39;00m\n\u001b[1;32m---> 91\u001b[0m     np\u001b[39m.\u001b[39;49mtake(one, idx, axis\u001b[39m=\u001b[39;49m\u001b[39m0\u001b[39;49m, out\u001b[39m=\u001b[39;49mdata_view)\n\u001b[0;32m     92\u001b[0m data_view \u001b[39m*\u001b[39m\u001b[39m=\u001b[39m cals\n",
            "File \u001b[1;32m<__array_function__ internals>:180\u001b[0m, in \u001b[0;36mtake\u001b[1;34m(*args, **kwargs)\u001b[0m\n",
            "File \u001b[1;32mc:\\Users\\Eugene Chen\\.conda\\envs\\mne\\lib\\site-packages\\numpy\\core\\fromnumeric.py:190\u001b[0m, in \u001b[0;36mtake\u001b[1;34m(a, indices, axis, out, mode)\u001b[0m\n\u001b[0;32m     93\u001b[0m \u001b[39m@array_function_dispatch\u001b[39m(_take_dispatcher)\n\u001b[0;32m     94\u001b[0m \u001b[39mdef\u001b[39;00m \u001b[39mtake\u001b[39m(a, indices, axis\u001b[39m=\u001b[39m\u001b[39mNone\u001b[39;00m, out\u001b[39m=\u001b[39m\u001b[39mNone\u001b[39;00m, mode\u001b[39m=\u001b[39m\u001b[39m'\u001b[39m\u001b[39mraise\u001b[39m\u001b[39m'\u001b[39m):\n\u001b[0;32m     95\u001b[0m     \u001b[39m\"\"\"\u001b[39;00m\n\u001b[0;32m     96\u001b[0m \u001b[39m    Take elements from an array along an axis.\u001b[39;00m\n\u001b[0;32m     97\u001b[0m \n\u001b[1;32m   (...)\u001b[0m\n\u001b[0;32m    188\u001b[0m \u001b[39m           [5, 7]])\u001b[39;00m\n\u001b[0;32m    189\u001b[0m \u001b[39m    \"\"\"\u001b[39;00m\n\u001b[1;32m--> 190\u001b[0m     \u001b[39mreturn\u001b[39;00m _wrapfunc(a, \u001b[39m'\u001b[39;49m\u001b[39mtake\u001b[39;49m\u001b[39m'\u001b[39;49m, indices, axis\u001b[39m=\u001b[39;49maxis, out\u001b[39m=\u001b[39;49mout, mode\u001b[39m=\u001b[39;49mmode)\n",
            "File \u001b[1;32mc:\\Users\\Eugene Chen\\.conda\\envs\\mne\\lib\\site-packages\\numpy\\core\\fromnumeric.py:57\u001b[0m, in \u001b[0;36m_wrapfunc\u001b[1;34m(obj, method, *args, **kwds)\u001b[0m\n\u001b[0;32m     54\u001b[0m     \u001b[39mreturn\u001b[39;00m _wrapit(obj, method, \u001b[39m*\u001b[39margs, \u001b[39m*\u001b[39m\u001b[39m*\u001b[39mkwds)\n\u001b[0;32m     56\u001b[0m \u001b[39mtry\u001b[39;00m:\n\u001b[1;32m---> 57\u001b[0m     \u001b[39mreturn\u001b[39;00m bound(\u001b[39m*\u001b[39margs, \u001b[39m*\u001b[39m\u001b[39m*\u001b[39mkwds)\n\u001b[0;32m     58\u001b[0m \u001b[39mexcept\u001b[39;00m \u001b[39mTypeError\u001b[39;00m:\n\u001b[0;32m     59\u001b[0m     \u001b[39m# A TypeError occurs if the object does have such a method in its\u001b[39;00m\n\u001b[0;32m     60\u001b[0m     \u001b[39m# class, but its signature is not identical to that of NumPy's. This\u001b[39;00m\n\u001b[1;32m   (...)\u001b[0m\n\u001b[0;32m     64\u001b[0m     \u001b[39m# Call _wrapit from within the except clause to ensure a potential\u001b[39;00m\n\u001b[0;32m     65\u001b[0m     \u001b[39m# exception has a traceback chain.\u001b[39;00m\n\u001b[0;32m     66\u001b[0m     \u001b[39mreturn\u001b[39;00m _wrapit(obj, method, \u001b[39m*\u001b[39margs, \u001b[39m*\u001b[39m\u001b[39m*\u001b[39mkwds)\n",
            "\u001b[1;31mKeyboardInterrupt\u001b[0m: "
          ]
        }
      ],
      "source": [
        "last_read = \"\"\n",
        "seizures_array = np.array([]).reshape(0,17,512)\n",
        "num = 0\n",
        "epoch_list = []\n",
        "\n",
        "for i, row in seizure_pointers.iterrows():\n",
        "    clear_output(wait=True)\n",
        "    print(str(num)+\"/\"+str(seizure_pointers.shape[0]-1))\n",
        "    print(i)\n",
        "    num+=1\n",
        "    \n",
        "    if last_read != row['seizure_file']:\n",
        "        file_name = row['seizure_file']+'.edf/'\n",
        "        folder_name = row['case']+'/'\n",
        "        edf_data = mne.io.read_raw_edf(drive_path+'chb-mit-scalp-eeg-database-1.0.0/'+folder_name+file_name, verbose=40)\n",
        "        print('current channels:', edf_data.ch_names)\n",
        "        print('dropping channels:', diff(edf_data.ch_names, channels))\n",
        "        print('not contains channels:', diff(channels, edf_data.ch_names))\n",
        "        if len(diff(channels, edf_data.ch_names))!=0:\n",
        "            continue\n",
        "        edf_data.drop_channels(diff(edf_data.ch_names, channels))\n",
        "\n",
        "    seizures = mne.Annotations(onset=row['seizure_start'], duration=row['seizure_duration'], description='bad')\n",
        "    edf_data.set_annotations(seizures)\n",
        "\n",
        "    if last_read != row['seizure_file'] or i == seizure_pointers.shape[0]-1:\n",
        "        last_read = row['seizure_file']\n",
        "        raw_seizures = mne.concatenate_raws(edf_data.crop_by_annotations(), verbose=False)\n",
        "        seizures = mne.make_fixed_length_epochs(raw_seizures,EPOCH_DURATION,reject_by_annotation=False, verbose=False)\n",
        "        seizures_array = np.concatenate((seizures_array,seizures.get_data()), axis=0)\n",
        "        non_seizures = mne.make_fixed_length_epochs(edf_data,EPOCH_DURATION,reject_by_annotation=True, preload = 'fast', verbose=False)\n",
        "        epoch_list.append(non_seizures)"
      ]
    },
    {
      "cell_type": "code",
      "execution_count": 16,
      "metadata": {},
      "outputs": [
        {
          "name": "stdout",
          "output_type": "stream",
          "text": [
            "Loading data for 14 events and 512 original time points ...\n"
          ]
        }
      ],
      "source": [
        "X = non_seizures.get_data()\n",
        "Y = seizures.get_data()"
      ]
    },
    {
      "cell_type": "code",
      "execution_count": 17,
      "metadata": {
        "colab": {
          "base_uri": "https://localhost:8080/"
        },
        "id": "xzSOZ5J-F1aJ",
        "outputId": "c0706881-95af-4f96-85b1-eff7d58c634a"
      },
      "outputs": [
        {
          "ename": "NameError",
          "evalue": "name 'seizures_array' is not defined",
          "output_type": "error",
          "traceback": [
            "\u001b[1;31m---------------------------------------------------------------------------\u001b[0m",
            "\u001b[1;31mNameError\u001b[0m                                 Traceback (most recent call last)",
            "Cell \u001b[1;32mIn [17], line 2\u001b[0m\n\u001b[0;32m      1\u001b[0m non_seizures_array \u001b[39m=\u001b[39m np\u001b[39m.\u001b[39marray([])\u001b[39m.\u001b[39mreshape(\u001b[39m0\u001b[39m,\u001b[39m17\u001b[39m,\u001b[39m512\u001b[39m)\n\u001b[1;32m----> 2\u001b[0m \u001b[39mfor\u001b[39;00m i \u001b[39min\u001b[39;00m \u001b[39mrange\u001b[39m(seizures_array\u001b[39m.\u001b[39mshape[\u001b[39m0\u001b[39m]):\n\u001b[0;32m      3\u001b[0m     sample \u001b[39m=\u001b[39m random\u001b[39m.\u001b[39mrandint(\u001b[39m0\u001b[39m,\u001b[39mlen\u001b[39m(epoch_list)\u001b[39m-\u001b[39m\u001b[39m1\u001b[39m)\n\u001b[0;32m      4\u001b[0m     unit \u001b[39m=\u001b[39m random\u001b[39m.\u001b[39mrandint(\u001b[39m0\u001b[39m,\u001b[39mlen\u001b[39m(epoch_list[sample])\u001b[39m-\u001b[39m\u001b[39m1\u001b[39m)\n",
            "\u001b[1;31mNameError\u001b[0m: name 'seizures_array' is not defined"
          ]
        }
      ],
      "source": [
        "non_seizures_array = np.array([]).reshape(0,17,512)\n",
        "for i in range(seizures_array.shape[0]):\n",
        "    sample = random.randint(0,len(epoch_list)-1)\n",
        "    unit = random.randint(0,len(epoch_list[sample])-1)\n",
        "    non_seizures_array = np.concatenate((non_seizures_array,epoch_list[sample][unit].get_data()), axis=0)"
      ]
    },
    {
      "cell_type": "code",
      "execution_count": 86,
      "metadata": {
        "id": "aEN6LsK2TQ6D"
      },
      "outputs": [],
      "source": [
        "label_std = [n + '-std' for n in channels]\n",
        "label_var = [n + '-var' for n in channels]\n",
        "label_max = [n + '-max' for n in channels]\n",
        "label_skw = [n + '-skw' for n in channels]\n",
        "label_krt = [n + '-krt' for n in channels]\n",
        "label_std_rfft = [n + '-std_rfft' for n in channels]\n",
        "label_var_rfft = [n + '-var_rfft' for n in channels]\n",
        "label_max_rfft = [n + '-max_rfft' for n in channels]\n",
        "label_skw_rfft = [n + '-skw_rfft' for n in channels]\n",
        "label_krt_rfft = [n + '-krt_rfft' for n in channels]"
      ]
    },
    {
      "cell_type": "code",
      "execution_count": 41,
      "metadata": {
        "id": "EdW6wa294VlJ"
      },
      "outputs": [],
      "source": [
        "X = non_seizures_array\n",
        "Y = seizures_array"
      ]
    },
    {
      "cell_type": "code",
      "execution_count": 95,
      "metadata": {
        "id": "OjKgSZd0rkf6"
      },
      "outputs": [],
      "source": [
        "std_X = np.std(X, axis=2)\n",
        "var_X = np.var(X, axis=2)\n",
        "max_X = np.max(X, axis=2)\n",
        "skw_X = scipy.stats.skew(X, axis=2)\n",
        "krt_X = scipy.stats.kurtosis(X, axis=2)\n",
        "X_rfft = np.real(rfft(X, axis=2))\n",
        "std_X_rfft = np.std(X_rfft, axis=2)\n",
        "var_X_rfft = np.var(X_rfft, axis=2)\n",
        "max_X_rfft = np.max(X_rfft, axis=2)\n",
        "skw_X_rfft = scipy.stats.skew(X_rfft, axis=2)\n",
        "krt_X_rfft = scipy.stats.kurtosis(X_rfft, axis=2)\n",
        "index_X = list(range(len(X)))\n",
        "\n",
        "std_Y = np.std(Y, axis=2)\n",
        "var_Y = np.var(Y, axis=2)\n",
        "max_Y = np.max(Y, axis=2)\n",
        "skw_Y = scipy.stats.skew(Y, axis=2)\n",
        "krt_Y = scipy.stats.kurtosis(Y, axis=2)\n",
        "Y_rfft = np.real(rfft(Y, axis=2))\n",
        "std_Y_rfft = np.std(Y_rfft, axis=2)\n",
        "var_Y_rfft = np.var(Y_rfft, axis=2)\n",
        "max_Y_rfft = np.max(Y_rfft, axis=2)\n",
        "skw_Y_rfft = scipy.stats.skew(Y_rfft, axis=2)\n",
        "krt_Y_rfft = scipy.stats.kurtosis(Y_rfft, axis=2)\n",
        "index_Y = list(range(len(X),len(X)+len(Y)))\n",
        "\n",
        "df_X = pd.DataFrame(data=std_X, index=index_X, columns=label_std)\n",
        "df_X = df_X.join(pd.DataFrame(data=var_X, index=index_X, columns=label_var))\n",
        "df_X = df_X.join(pd.DataFrame(data=max_X, index=index_X, columns=label_max))\n",
        "df_X = df_X.join(pd.DataFrame(data=skw_X, index=index_X, columns=label_skw))\n",
        "df_X = df_X.join(pd.DataFrame(data=krt_X, index=index_X, columns=label_krt))\n",
        "df_X = df_X.join(pd.DataFrame(data=var_X_rfft, index=index_X, columns=label_var_rfft))\n",
        "df_X = df_X.join(pd.DataFrame(data=max_X_rfft, index=index_X, columns=label_max_rfft))\n",
        "df_X = df_X.join(pd.DataFrame(data=skw_X_rfft, index=index_X, columns=label_skw_rfft))\n",
        "df_X = df_X.join(pd.DataFrame(data=krt_X_rfft, index=index_X, columns=label_krt_rfft))\n",
        "\n",
        "\n",
        "df_Y = pd.DataFrame(data=std_Y, index=index_Y, columns=label_std)\n",
        "df_Y = df_Y.join(pd.DataFrame(data=var_Y, index=index_Y, columns=label_var))\n",
        "df_Y = df_Y.join(pd.DataFrame(data=max_Y, index=index_Y, columns=label_max))\n",
        "df_Y = df_Y.join(pd.DataFrame(data=skw_Y, index=index_Y, columns=label_skw))\n",
        "df_Y = df_Y.join(pd.DataFrame(data=krt_Y, index=index_Y, columns=label_krt))\n",
        "df_Y = df_Y.join(pd.DataFrame(data=var_Y_rfft, index=index_Y, columns=label_var_rfft))\n",
        "df_Y = df_Y.join(pd.DataFrame(data=max_Y_rfft, index=index_Y, columns=label_max_rfft))\n",
        "df_Y = df_Y.join(pd.DataFrame(data=skw_Y_rfft, index=index_Y, columns=label_skw_rfft))\n",
        "df_Y = df_Y.join(pd.DataFrame(data=krt_Y_rfft, index=index_Y, columns=label_krt_rfft))\n",
        "\n",
        "df = pd.concat([df_X, df_Y])\n",
        "df=(df-df.mean())/df.std()\n",
        "aux = pd.concat([pd.DataFrame(data=0, index=index_X, columns=['seizure']),pd.DataFrame(data=1, index=index_Y, columns=['seizure'])])\n",
        "df = df.join(aux)"
      ]
    },
    {
      "cell_type": "code",
      "execution_count": 98,
      "metadata": {},
      "outputs": [],
      "source": [
        "csv_file =  open('data\\\\'+target+'.csv', 'w')\n",
        "df.to_csv(csv_file)\n",
        "csv_file.close()"
      ]
    },
    {
      "cell_type": "code",
      "execution_count": 43,
      "metadata": {
        "id": "O0iBT2B66IzI"
      },
      "outputs": [],
      "source": [
        "# Dump the data into a pickle file\n",
        "with open(drive_path + '/data.pickle', 'wb') as f:\n",
        "    pickle.dump(df, f)"
      ]
    },
    {
      "cell_type": "code",
      "execution_count": 7,
      "metadata": {
        "id": "JS_vpEXd6MoW"
      },
      "outputs": [],
      "source": [
        "# Load the data from a pickle file\n",
        "with open(drive_path + '/data.pickle', 'rb') as f:\n",
        "    df = pickle.load(f)"
      ]
    },
    {
      "cell_type": "code",
      "execution_count": 44,
      "metadata": {},
      "outputs": [
        {
          "data": {
            "text/plain": [
              "(9012, 154)"
            ]
          },
          "execution_count": 44,
          "metadata": {},
          "output_type": "execute_result"
        }
      ],
      "source": [
        "df.shape"
      ]
    },
    {
      "cell_type": "code",
      "execution_count": null,
      "metadata": {
        "colab": {
          "base_uri": "https://localhost:8080/"
        },
        "id": "hdBdmBeUsFUL",
        "outputId": "c1037db3-1110-4f47-89ff-09d6a9b3c50b"
      },
      "outputs": [],
      "source": [
        "# times = []\n",
        "# durations = []\n",
        "# for i, row in seizure_pointers.loc[seizure_pointers['seizure_file'] == 'chb12_38'].iterrows():\n",
        "#     times.append(row['seizure_start'])\n",
        "#     durations.append(row['seizure_duration'])\n",
        "# edf_data2 = mne.io.read_raw_edf(drive_path+'chb-mit-scalp-eeg-database-1.0.0/'+'chb12/'+'chb12_38.edf/', verbose=False)\n",
        "# edf_data2.drop_channels(diff(edf_data2.ch_names, channels))\n",
        "# seizures2 = mne.Annotations(onset=times, \n",
        "#         duration=durations, \n",
        "#         description=['bad']*len(durations))\n",
        "# edf_data2.set_annotations(seizures2)\n",
        "# raw_seizures2 = mne.concatenate_raws(edf_data2.crop_by_annotations())\n",
        "# seizures2 = mne.make_fixed_length_epochs(raw_seizures2,2,reject_by_annotation=False)\n",
        "# edf_data = mne.io.concatenate_raws([edf_data, edf_data2])\n",
        "# raw_seizures = mne.io.concatenate_raws([raw_seizures, raw_seizures2])\n",
        "# seizures = mne.make_fixed_length_epochs(raw_seizures,2,reject_by_annotation=False)\n",
        "# epochs = mne.make_fixed_length_epochs(edf_data,2,reject_by_annotation=True)\n",
        "# epochs.drop_bad()\n",
        "# non_seizures = random_sample(epochs,seizures.get_data().shape[0])\n",
        "# X = non_seizures.get_data()\n",
        "# Y = seizures.get_data()"
      ]
    },
    {
      "cell_type": "markdown",
      "metadata": {
        "id": "ILC_jUlzsD3z"
      },
      "source": [
        "# Prediction by ML"
      ]
    },
    {
      "cell_type": "code",
      "execution_count": 21,
      "metadata": {
        "id": "Rk0ADUyrsL17"
      },
      "outputs": [],
      "source": [
        "from sklearn.ensemble import RandomForestClassifier\n",
        "from sklearn.svm import SVC\n",
        "from sklearn.neighbors import KNeighborsClassifier\n",
        "from sklearn.model_selection import train_test_split\n",
        "from sklearn.metrics import f1_score"
      ]
    },
    {
      "cell_type": "code",
      "execution_count": 11,
      "metadata": {},
      "outputs": [],
      "source": [
        "df = df.dropna()\n",
        "X = df.drop(columns = 'seizure')\n",
        "y = df['seizure']\n",
        "X_train, X_test, y_train, y_test = train_test_split(X, y, test_size=0.2, random_state=0)"
      ]
    },
    {
      "cell_type": "code",
      "execution_count": 19,
      "metadata": {},
      "outputs": [
        {
          "data": {
            "text/plain": [
              "0.8688711516533638"
            ]
          },
          "execution_count": 19,
          "metadata": {},
          "output_type": "execute_result"
        }
      ],
      "source": [
        "clf=RandomForestClassifier(n_estimators=1000)\n",
        "clf.fit(X_train, y_train)\n",
        "y_pred = clf.predict(X_test)\n",
        "f1_score(y_test.values, y_pred, pos_label=\"True\")"
      ]
    },
    {
      "cell_type": "code",
      "execution_count": 17,
      "metadata": {},
      "outputs": [
        {
          "data": {
            "text/plain": [
              "0.809384164222874"
            ]
          },
          "execution_count": 17,
          "metadata": {},
          "output_type": "execute_result"
        }
      ],
      "source": [
        "clf = SVC(kernel='rbf')\n",
        "clf.fit(X_train, y_train)\n",
        "y_pred = clf.predict(X_test)\n",
        "f1_score(y_test.values, y_pred, pos_label=\"True\")"
      ]
    },
    {
      "cell_type": "code",
      "execution_count": 42,
      "metadata": {},
      "outputs": [
        {
          "data": {
            "text/plain": [
              "0.7882005899705014"
            ]
          },
          "execution_count": 42,
          "metadata": {},
          "output_type": "execute_result"
        }
      ],
      "source": [
        "clf = KNeighborsClassifier(n_neighbors=10)\n",
        "clf.fit(X_train, y_train)\n",
        "y_pred = clf.predict(X_test)\n",
        "f1_score(y_test.values, y_pred, pos_label=\"True\")"
      ]
    },
    {
      "cell_type": "markdown",
      "metadata": {
        "id": "Xa8ZOlsjsD8c"
      },
      "source": [
        "# Prediction by DL"
      ]
    },
    {
      "cell_type": "code",
      "execution_count": 2,
      "metadata": {},
      "outputs": [
        {
          "name": "stdout",
          "output_type": "stream",
          "text": [
            "Collecting torch\n",
            "  Using cached torch-1.12.1-cp39-cp39-win_amd64.whl (161.8 MB)\n",
            "Collecting typing-extensions\n",
            "  Downloading typing_extensions-4.4.0-py3-none-any.whl (26 kB)\n",
            "Installing collected packages: typing-extensions, torch\n",
            "Successfully installed torch-1.12.1 typing-extensions-4.4.0\n"
          ]
        }
      ],
      "source": [
        "! pip install torch"
      ]
    },
    {
      "cell_type": "code",
      "execution_count": 27,
      "metadata": {
        "id": "aVzsEBuZvQtI"
      },
      "outputs": [
        {
          "name": "stderr",
          "output_type": "stream",
          "text": [
            "c:\\Users\\Eugene Chen\\.conda\\envs\\mne\\lib\\site-packages\\tqdm\\auto.py:22: TqdmWarning: IProgress not found. Please update jupyter and ipywidgets. See https://ipywidgets.readthedocs.io/en/stable/user_install.html\n",
            "  from .autonotebook import tqdm as notebook_tqdm\n"
          ]
        }
      ],
      "source": [
        "import torch\n",
        "from torch.autograd import Variable\n",
        "import torch.nn as nn\n",
        "import torch.optim as optim\n",
        "from torch.nn import Linear, GRU, Conv2d, Dropout, MaxPool2d, BatchNorm1d\n",
        "from torch.nn.functional import relu, elu, relu6, sigmoid, tanh, softmax"
      ]
    },
    {
      "cell_type": "code",
      "execution_count": 28,
      "metadata": {},
      "outputs": [
        {
          "name": "stdout",
          "output_type": "stream",
          "text": [
            "No GPU available.\n"
          ]
        }
      ],
      "source": [
        "use_cuda = torch.cuda.is_available()\n",
        "print(\"Running GPU.\") if use_cuda else print(\"No GPU available.\")\n",
        "\n",
        "\n",
        "def get_variable(x):\n",
        "    \"\"\" Converts tensors to cuda, if available. \"\"\"\n",
        "    if use_cuda:\n",
        "        return x.cuda()\n",
        "    return x\n",
        "\n",
        "\n",
        "def get_numpy(x):\n",
        "    \"\"\" Get numpy array for both cuda and not. \"\"\"\n",
        "    if use_cuda:\n",
        "        return x.cpu().data.numpy()\n",
        "    return x.data.numpy()"
      ]
    },
    {
      "cell_type": "code",
      "execution_count": 30,
      "metadata": {},
      "outputs": [
        {
          "data": {
            "text/plain": [
              "153"
            ]
          },
          "execution_count": 30,
          "metadata": {},
          "output_type": "execute_result"
        }
      ],
      "source": [
        "X.shape[1]"
      ]
    },
    {
      "cell_type": "code",
      "execution_count": 52,
      "metadata": {},
      "outputs": [
        {
          "name": "stdout",
          "output_type": "stream",
          "text": [
            "Net(\n",
            "  (l1): Linear(in_features=153, out_features=50, bias=True)\n",
            "  (l2): Linear(in_features=50, out_features=10, bias=True)\n",
            "  (l3): Linear(in_features=10, out_features=2, bias=True)\n",
            ")\n"
          ]
        }
      ],
      "source": [
        "# Keep track of features to output layer\n",
        "features_cat_size = X.shape[1] # <-- Number of features concatenated before output layer\n",
        "    \n",
        "class Net(nn.Module):\n",
        "    def __init__(self):\n",
        "        super(Net, self).__init__()\n",
        "        \n",
        "        self.l1 = Linear(in_features=features_cat_size,\n",
        "                            out_features=50)\n",
        "        torch.nn.init.xavier_normal_(self.l1.weight)\n",
        "        self.l2 = Linear(in_features=50,\n",
        "                            out_features=10)\n",
        "        torch.nn.init.xavier_normal_(self.l2.weight)\n",
        "        self.l3 = Linear(in_features=10,\n",
        "                            out_features=2)\n",
        "        torch.nn.init.xavier_normal_(self.l3.weight)\n",
        "        \n",
        "    def forward(self, features):\n",
        "        features = [features]\n",
        "        out = {}\n",
        "        features_final = torch.cat(features, dim=1)\n",
        "        features_final = self.l1(features_final)\n",
        "        features_final = relu(features_final)\n",
        "        features_final = self.l2(features_final)\n",
        "        features_final = relu(features_final)\n",
        "        features_final = self.l3(features_final)\n",
        "        out['out'] = softmax(features_final)\n",
        "        return out\n",
        "\n",
        "net = Net()\n",
        "if use_cuda:\n",
        "    net.cuda()\n",
        "print(net)"
      ]
    },
    {
      "cell_type": "code",
      "execution_count": 44,
      "metadata": {},
      "outputs": [],
      "source": [
        "LEARNING_RATE = 0.005\n",
        "criterion = nn.CrossEntropyLoss()          # <-- Your code here.   \n",
        "\n",
        "# weight_decay is equal to L3 regularization\n",
        "optimizer = optim.Adam(net.parameters(), lr=LEARNING_RATE)\n",
        "\n",
        "def accuracy(ys, ts):\n",
        "    predictions = torch.max(ys, 1)[1]\n",
        "    correct_prediction = torch.eq(predictions, ts)\n",
        "    return torch.mean(correct_prediction.float())"
      ]
    },
    {
      "cell_type": "code",
      "execution_count": 38,
      "metadata": {},
      "outputs": [],
      "source": [
        "X_train, X_test, y_train, y_test = train_test_split(X, y, test_size=0.2, random_state=0)"
      ]
    },
    {
      "cell_type": "code",
      "execution_count": 47,
      "metadata": {},
      "outputs": [],
      "source": [
        "features = torch.from_numpy(X_train.to_numpy()) "
      ]
    },
    {
      "cell_type": "code",
      "execution_count": 51,
      "metadata": {},
      "outputs": [
        {
          "data": {
            "text/plain": [
              "tensor([[-0.0476, -0.5151, -0.6518,  ..., -0.0973, -0.2091, -0.3848],\n",
              "        [ 1.0740,  2.0778,  2.5231,  ..., -0.3451, -0.2285,  0.2275],\n",
              "        [ 0.2176,  0.0181,  0.6474,  ..., -0.5667,  0.1511, -0.5056],\n",
              "        ...,\n",
              "        [-0.0759,  0.2313,  0.4478,  ..., -1.2413,  1.6222,  1.5276],\n",
              "        [-0.6817, -0.7538, -0.7798,  ...,  0.3089, -0.3024, -0.7600],\n",
              "        [ 0.5669, -0.0619, -0.1159,  ..., -0.0606,  0.3788,  2.2972]],\n",
              "       dtype=torch.float64)"
            ]
          },
          "execution_count": 51,
          "metadata": {},
          "output_type": "execute_result"
        }
      ],
      "source": [
        "get_variable(Variable(torch.from_numpy(X_train.to_numpy()) ))"
      ]
    },
    {
      "cell_type": "code",
      "execution_count": 53,
      "metadata": {},
      "outputs": [
        {
          "ename": "RuntimeError",
          "evalue": "expected scalar type Float but found Double",
          "output_type": "error",
          "traceback": [
            "\u001b[1;31m---------------------------------------------------------------------------\u001b[0m",
            "\u001b[1;31mRuntimeError\u001b[0m                              Traceback (most recent call last)",
            "Cell \u001b[1;32mIn [53], line 5\u001b[0m\n\u001b[0;32m      2\u001b[0m _x_features \u001b[39m=\u001b[39m get_variable(Variable(torch\u001b[39m.\u001b[39mfrom_numpy(X_train\u001b[39m.\u001b[39mto_numpy())))\n\u001b[0;32m      4\u001b[0m \u001b[39m# test the forward pass\u001b[39;00m\n\u001b[1;32m----> 5\u001b[0m output \u001b[39m=\u001b[39m net(_x_features)\n\u001b[0;32m      6\u001b[0m output[\u001b[39m'\u001b[39m\u001b[39mout\u001b[39m\u001b[39m'\u001b[39m]\n",
            "File \u001b[1;32mc:\\Users\\Eugene Chen\\.conda\\envs\\mne\\lib\\site-packages\\torch\\nn\\modules\\module.py:1130\u001b[0m, in \u001b[0;36mModule._call_impl\u001b[1;34m(self, *input, **kwargs)\u001b[0m\n\u001b[0;32m   1126\u001b[0m \u001b[39m# If we don't have any hooks, we want to skip the rest of the logic in\u001b[39;00m\n\u001b[0;32m   1127\u001b[0m \u001b[39m# this function, and just call forward.\u001b[39;00m\n\u001b[0;32m   1128\u001b[0m \u001b[39mif\u001b[39;00m \u001b[39mnot\u001b[39;00m (\u001b[39mself\u001b[39m\u001b[39m.\u001b[39m_backward_hooks \u001b[39mor\u001b[39;00m \u001b[39mself\u001b[39m\u001b[39m.\u001b[39m_forward_hooks \u001b[39mor\u001b[39;00m \u001b[39mself\u001b[39m\u001b[39m.\u001b[39m_forward_pre_hooks \u001b[39mor\u001b[39;00m _global_backward_hooks\n\u001b[0;32m   1129\u001b[0m         \u001b[39mor\u001b[39;00m _global_forward_hooks \u001b[39mor\u001b[39;00m _global_forward_pre_hooks):\n\u001b[1;32m-> 1130\u001b[0m     \u001b[39mreturn\u001b[39;00m forward_call(\u001b[39m*\u001b[39m\u001b[39minput\u001b[39m, \u001b[39m*\u001b[39m\u001b[39m*\u001b[39mkwargs)\n\u001b[0;32m   1131\u001b[0m \u001b[39m# Do not call functions when jit is used\u001b[39;00m\n\u001b[0;32m   1132\u001b[0m full_backward_hooks, non_full_backward_hooks \u001b[39m=\u001b[39m [], []\n",
            "Cell \u001b[1;32mIn [52], line 37\u001b[0m, in \u001b[0;36mNet.forward\u001b[1;34m(self, features)\u001b[0m\n\u001b[0;32m     27\u001b[0m \u001b[39m## Convolutional layer ##\u001b[39;00m\n\u001b[0;32m     28\u001b[0m \u001b[39m# - Change dimensions to fit the convolutional layer \u001b[39;00m\n\u001b[0;32m     29\u001b[0m \u001b[39m# - Apply Conv2d\u001b[39;00m\n\u001b[1;32m   (...)\u001b[0m\n\u001b[0;32m     34\u001b[0m \n\u001b[0;32m     35\u001b[0m \u001b[39m## Output layer where all features are in use ##\u001b[39;00m\n\u001b[0;32m     36\u001b[0m features_final \u001b[39m=\u001b[39m torch\u001b[39m.\u001b[39mcat(features, dim\u001b[39m=\u001b[39m\u001b[39m1\u001b[39m)\n\u001b[1;32m---> 37\u001b[0m features_final \u001b[39m=\u001b[39m \u001b[39mself\u001b[39;49m\u001b[39m.\u001b[39;49ml1(features_final)\n\u001b[0;32m     38\u001b[0m features_final \u001b[39m=\u001b[39m relu(features_final)\n\u001b[0;32m     39\u001b[0m features_final \u001b[39m=\u001b[39m \u001b[39mself\u001b[39m\u001b[39m.\u001b[39ml2(features_final)\n",
            "File \u001b[1;32mc:\\Users\\Eugene Chen\\.conda\\envs\\mne\\lib\\site-packages\\torch\\nn\\modules\\module.py:1130\u001b[0m, in \u001b[0;36mModule._call_impl\u001b[1;34m(self, *input, **kwargs)\u001b[0m\n\u001b[0;32m   1126\u001b[0m \u001b[39m# If we don't have any hooks, we want to skip the rest of the logic in\u001b[39;00m\n\u001b[0;32m   1127\u001b[0m \u001b[39m# this function, and just call forward.\u001b[39;00m\n\u001b[0;32m   1128\u001b[0m \u001b[39mif\u001b[39;00m \u001b[39mnot\u001b[39;00m (\u001b[39mself\u001b[39m\u001b[39m.\u001b[39m_backward_hooks \u001b[39mor\u001b[39;00m \u001b[39mself\u001b[39m\u001b[39m.\u001b[39m_forward_hooks \u001b[39mor\u001b[39;00m \u001b[39mself\u001b[39m\u001b[39m.\u001b[39m_forward_pre_hooks \u001b[39mor\u001b[39;00m _global_backward_hooks\n\u001b[0;32m   1129\u001b[0m         \u001b[39mor\u001b[39;00m _global_forward_hooks \u001b[39mor\u001b[39;00m _global_forward_pre_hooks):\n\u001b[1;32m-> 1130\u001b[0m     \u001b[39mreturn\u001b[39;00m forward_call(\u001b[39m*\u001b[39m\u001b[39minput\u001b[39m, \u001b[39m*\u001b[39m\u001b[39m*\u001b[39mkwargs)\n\u001b[0;32m   1131\u001b[0m \u001b[39m# Do not call functions when jit is used\u001b[39;00m\n\u001b[0;32m   1132\u001b[0m full_backward_hooks, non_full_backward_hooks \u001b[39m=\u001b[39m [], []\n",
            "File \u001b[1;32mc:\\Users\\Eugene Chen\\.conda\\envs\\mne\\lib\\site-packages\\torch\\nn\\modules\\linear.py:114\u001b[0m, in \u001b[0;36mLinear.forward\u001b[1;34m(self, input)\u001b[0m\n\u001b[0;32m    113\u001b[0m \u001b[39mdef\u001b[39;00m \u001b[39mforward\u001b[39m(\u001b[39mself\u001b[39m, \u001b[39minput\u001b[39m: Tensor) \u001b[39m-\u001b[39m\u001b[39m>\u001b[39m Tensor:\n\u001b[1;32m--> 114\u001b[0m     \u001b[39mreturn\u001b[39;00m F\u001b[39m.\u001b[39;49mlinear(\u001b[39minput\u001b[39;49m, \u001b[39mself\u001b[39;49m\u001b[39m.\u001b[39;49mweight, \u001b[39mself\u001b[39;49m\u001b[39m.\u001b[39;49mbias)\n",
            "\u001b[1;31mRuntimeError\u001b[0m: expected scalar type Float but found Double"
          ]
        }
      ],
      "source": [
        "# dummy data\n",
        "_x_features = get_variable(Variable(torch.from_numpy(X_train.to_numpy())))\n",
        "\n",
        "# test the forward pass\n",
        "output = net(_x_features)\n",
        "output['out']"
      ]
    }
  ],
  "metadata": {
    "colab": {
      "collapsed_sections": [],
      "provenance": []
    },
    "kernelspec": {
      "display_name": "mne",
      "language": "python",
      "name": "python3"
    },
    "language_info": {
      "codemirror_mode": {
        "name": "ipython",
        "version": 3
      },
      "file_extension": ".py",
      "mimetype": "text/x-python",
      "name": "python",
      "nbconvert_exporter": "python",
      "pygments_lexer": "ipython3",
      "version": "3.9.13"
    },
    "vscode": {
      "interpreter": {
        "hash": "7392615a69787cc1f6be4aa4f2da9b4eb392d95ed7f743e9910e69ce659e31ba"
      }
    }
  },
  "nbformat": 4,
  "nbformat_minor": 0
}
